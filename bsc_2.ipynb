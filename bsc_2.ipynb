{
 "cells": [
  {
   "cell_type": "code",
   "execution_count": 6,
   "id": "fec18d84",
   "metadata": {},
   "outputs": [],
   "source": [
    "import pandas as pd\n",
    "import numpy as np\n",
    "import openpyxl\n",
    "import matplotlib.pyplot as plt\n",
    "#import os\n",
    "import seaborn as sns\n",
    "import warnings"
   ]
  },
  {
   "cell_type": "code",
   "execution_count": 7,
   "id": "b630f297",
   "metadata": {},
   "outputs": [],
   "source": [
    "warnings.filterwarnings('ignore')"
   ]
  },
  {
   "cell_type": "code",
   "execution_count": 8,
   "id": "298328dd",
   "metadata": {},
   "outputs": [],
   "source": [
    "data= pd.read_excel('Sales_project.xlsx')\n",
    "sales_order= pd.read_excel('Sales_project.xlsx','Sales Orders Sheet')\n",
    "customers=pd.read_excel('Sales_project.xlsx', 'Customers Sheet')\n",
    "site_location= pd.read_excel('Sales_project.xlsx','Site Location sheet')\n",
    "products= pd.read_excel('Sales_project.xlsx', 'Products_Sheet')\n",
    "sales_team= pd.read_excel('Sales_project.xlsx','Sales Team Sheet')"
   ]
  },
  {
   "cell_type": "code",
   "execution_count": 9,
   "id": "f6f18f75",
   "metadata": {
    "scrolled": true
   },
   "outputs": [
    {
     "data": {
      "text/html": [
       "<div>\n",
       "<style scoped>\n",
       "    .dataframe tbody tr th:only-of-type {\n",
       "        vertical-align: middle;\n",
       "    }\n",
       "\n",
       "    .dataframe tbody tr th {\n",
       "        vertical-align: top;\n",
       "    }\n",
       "\n",
       "    .dataframe thead th {\n",
       "        text-align: right;\n",
       "    }\n",
       "</style>\n",
       "<table border=\"1\" class=\"dataframe\">\n",
       "  <thead>\n",
       "    <tr style=\"text-align: right;\">\n",
       "      <th></th>\n",
       "      <th>OrderNumber</th>\n",
       "      <th>OrderDate</th>\n",
       "      <th>CurrencyCode</th>\n",
       "      <th>_SalesAM_ID</th>\n",
       "      <th>_CustomerID</th>\n",
       "      <th>_SiteID</th>\n",
       "      <th>_ProductID</th>\n",
       "      <th>Order Quantity</th>\n",
       "      <th>Discount Applied</th>\n",
       "      <th>Unit Price</th>\n",
       "      <th>Unit Cost</th>\n",
       "    </tr>\n",
       "  </thead>\n",
       "  <tbody>\n",
       "    <tr>\n",
       "      <th>0</th>\n",
       "      <td>SO - 000175</td>\n",
       "      <td>2018-06-09</td>\n",
       "      <td>RWF</td>\n",
       "      <td>1</td>\n",
       "      <td>1</td>\n",
       "      <td>107</td>\n",
       "      <td>1</td>\n",
       "      <td>1</td>\n",
       "      <td>0.075</td>\n",
       "      <td>2224.4</td>\n",
       "      <td>1579.324</td>\n",
       "    </tr>\n",
       "    <tr>\n",
       "      <th>1</th>\n",
       "      <td>SO - 0003171</td>\n",
       "      <td>2019-05-26</td>\n",
       "      <td>RWF</td>\n",
       "      <td>8</td>\n",
       "      <td>1</td>\n",
       "      <td>288</td>\n",
       "      <td>1</td>\n",
       "      <td>1</td>\n",
       "      <td>0.300</td>\n",
       "      <td>3966.4</td>\n",
       "      <td>2816.144</td>\n",
       "    </tr>\n",
       "    <tr>\n",
       "      <th>2</th>\n",
       "      <td>SO - 0003587</td>\n",
       "      <td>2019-07-16</td>\n",
       "      <td>RWF</td>\n",
       "      <td>11</td>\n",
       "      <td>1</td>\n",
       "      <td>129</td>\n",
       "      <td>1</td>\n",
       "      <td>2</td>\n",
       "      <td>0.100</td>\n",
       "      <td>3852.5</td>\n",
       "      <td>2658.225</td>\n",
       "    </tr>\n",
       "    <tr>\n",
       "      <th>3</th>\n",
       "      <td>SO - 0005097</td>\n",
       "      <td>2020-01-14</td>\n",
       "      <td>RWF</td>\n",
       "      <td>22</td>\n",
       "      <td>1</td>\n",
       "      <td>4</td>\n",
       "      <td>1</td>\n",
       "      <td>1</td>\n",
       "      <td>0.075</td>\n",
       "      <td>2505.8</td>\n",
       "      <td>1954.524</td>\n",
       "    </tr>\n",
       "    <tr>\n",
       "      <th>4</th>\n",
       "      <td>SO - 0005532</td>\n",
       "      <td>2020-03-04</td>\n",
       "      <td>RWF</td>\n",
       "      <td>11</td>\n",
       "      <td>1</td>\n",
       "      <td>48</td>\n",
       "      <td>1</td>\n",
       "      <td>1</td>\n",
       "      <td>0.100</td>\n",
       "      <td>3256.2</td>\n",
       "      <td>2767.770</td>\n",
       "    </tr>\n",
       "  </tbody>\n",
       "</table>\n",
       "</div>"
      ],
      "text/plain": [
       "    OrderNumber  OrderDate CurrencyCode  _SalesAM_ID  _CustomerID  _SiteID  \\\n",
       "0   SO - 000175 2018-06-09          RWF            1            1      107   \n",
       "1  SO - 0003171 2019-05-26          RWF            8            1      288   \n",
       "2  SO - 0003587 2019-07-16          RWF           11            1      129   \n",
       "3  SO - 0005097 2020-01-14          RWF           22            1        4   \n",
       "4  SO - 0005532 2020-03-04          RWF           11            1       48   \n",
       "\n",
       "   _ProductID  Order Quantity  Discount Applied  Unit Price  Unit Cost  \n",
       "0           1               1             0.075      2224.4   1579.324  \n",
       "1           1               1             0.300      3966.4   2816.144  \n",
       "2           1               2             0.100      3852.5   2658.225  \n",
       "3           1               1             0.075      2505.8   1954.524  \n",
       "4           1               1             0.100      3256.2   2767.770  "
      ]
     },
     "execution_count": 9,
     "metadata": {},
     "output_type": "execute_result"
    }
   ],
   "source": [
    "sales_order.head(5)"
   ]
  },
  {
   "cell_type": "markdown",
   "id": "58092b7e",
   "metadata": {},
   "source": [
    "# Data Augementation"
   ]
  },
  {
   "cell_type": "code",
   "execution_count": 10,
   "id": "1c1010f5",
   "metadata": {},
   "outputs": [],
   "source": [
    "#Drop the Currrency Column since it's universal\n",
    "sales_order.drop(['CurrencyCode'], axis=1, inplace=True)"
   ]
  },
  {
   "cell_type": "code",
   "execution_count": 11,
   "id": "0a739e30",
   "metadata": {},
   "outputs": [],
   "source": [
    "#Calculate total amount of each transaction with discount deduction\n",
    "sales_order['Total Amount'] = (sales_order['Order Quantity']* sales_order['Unit Price'])-sales_order['Discount Applied']"
   ]
  },
  {
   "cell_type": "code",
   "execution_count": 12,
   "id": "dd1e819d",
   "metadata": {},
   "outputs": [],
   "source": [
    "#Create Month/Year column from datetime column\n",
    "sales_order['Month'] = pd.DatetimeIndex(sales_order['OrderDate']).month\n",
    "sales_order['Year'] = pd.DatetimeIndex(sales_order['OrderDate']).year"
   ]
  },
  {
   "cell_type": "code",
   "execution_count": 24,
   "id": "f4af2419",
   "metadata": {},
   "outputs": [
    {
     "name": "stdout",
     "output_type": "stream",
     "text": [
      "<class 'pandas.core.frame.DataFrame'>\n",
      "Int64Index: 7991 entries, 0 to 7990\n",
      "Data columns (total 15 columns):\n",
      " #   Column            Non-Null Count  Dtype         \n",
      "---  ------            --------------  -----         \n",
      " 0   OrderNumber       7991 non-null   object        \n",
      " 1   OrderDate         7991 non-null   datetime64[ns]\n",
      " 2   _SalesAM_ID       7991 non-null   int64         \n",
      " 3   _CustomerID       7991 non-null   int64         \n",
      " 4   _SiteID           7991 non-null   int64         \n",
      " 5   _ProductID        7991 non-null   int64         \n",
      " 6   Order Quantity    7991 non-null   int64         \n",
      " 7   Discount Applied  7991 non-null   float64       \n",
      " 8   Unit Price        7991 non-null   float64       \n",
      " 9   Unit Cost         7991 non-null   float64       \n",
      " 10  Total Amount      7991 non-null   float64       \n",
      " 11  Month             7991 non-null   int64         \n",
      " 12  Year              7991 non-null   int64         \n",
      " 13  Profit            7991 non-null   float64       \n",
      " 14  Bandwidth         7991 non-null   int64         \n",
      "dtypes: datetime64[ns](1), float64(5), int64(8), object(1)\n",
      "memory usage: 998.9+ KB\n"
     ]
    }
   ],
   "source": [
    "sales_order.info()\n"
   ]
  },
  {
   "cell_type": "code",
   "execution_count": 25,
   "id": "0de0e594",
   "metadata": {},
   "outputs": [
    {
     "data": {
      "text/html": [
       "<div>\n",
       "<style scoped>\n",
       "    .dataframe tbody tr th:only-of-type {\n",
       "        vertical-align: middle;\n",
       "    }\n",
       "\n",
       "    .dataframe tbody tr th {\n",
       "        vertical-align: top;\n",
       "    }\n",
       "\n",
       "    .dataframe thead th {\n",
       "        text-align: right;\n",
       "    }\n",
       "</style>\n",
       "<table border=\"1\" class=\"dataframe\">\n",
       "  <thead>\n",
       "    <tr style=\"text-align: right;\">\n",
       "      <th></th>\n",
       "      <th>OrderNumber</th>\n",
       "      <th>OrderDate</th>\n",
       "      <th>_SalesAM_ID</th>\n",
       "      <th>_CustomerID</th>\n",
       "      <th>_SiteID</th>\n",
       "      <th>_ProductID</th>\n",
       "      <th>Order Quantity</th>\n",
       "      <th>Discount Applied</th>\n",
       "      <th>Unit Price</th>\n",
       "      <th>Unit Cost</th>\n",
       "      <th>Total Amount</th>\n",
       "      <th>Month</th>\n",
       "      <th>Year</th>\n",
       "      <th>Profit</th>\n",
       "      <th>Bandwidth</th>\n",
       "    </tr>\n",
       "  </thead>\n",
       "  <tbody>\n",
       "    <tr>\n",
       "      <th>0</th>\n",
       "      <td>SO - 000175</td>\n",
       "      <td>2018-06-09</td>\n",
       "      <td>1</td>\n",
       "      <td>1</td>\n",
       "      <td>107</td>\n",
       "      <td>1</td>\n",
       "      <td>1</td>\n",
       "      <td>0.075</td>\n",
       "      <td>2224.4</td>\n",
       "      <td>1579.324</td>\n",
       "      <td>2224.325</td>\n",
       "      <td>6</td>\n",
       "      <td>2018</td>\n",
       "      <td>645.001</td>\n",
       "      <td>0</td>\n",
       "    </tr>\n",
       "    <tr>\n",
       "      <th>1</th>\n",
       "      <td>SO - 0003171</td>\n",
       "      <td>2019-05-26</td>\n",
       "      <td>8</td>\n",
       "      <td>1</td>\n",
       "      <td>288</td>\n",
       "      <td>1</td>\n",
       "      <td>1</td>\n",
       "      <td>0.300</td>\n",
       "      <td>3966.4</td>\n",
       "      <td>2816.144</td>\n",
       "      <td>3966.100</td>\n",
       "      <td>5</td>\n",
       "      <td>2019</td>\n",
       "      <td>1149.956</td>\n",
       "      <td>0</td>\n",
       "    </tr>\n",
       "    <tr>\n",
       "      <th>2</th>\n",
       "      <td>SO - 0003587</td>\n",
       "      <td>2019-07-16</td>\n",
       "      <td>11</td>\n",
       "      <td>1</td>\n",
       "      <td>129</td>\n",
       "      <td>1</td>\n",
       "      <td>2</td>\n",
       "      <td>0.100</td>\n",
       "      <td>3852.5</td>\n",
       "      <td>2658.225</td>\n",
       "      <td>7704.900</td>\n",
       "      <td>7</td>\n",
       "      <td>2019</td>\n",
       "      <td>1194.175</td>\n",
       "      <td>0</td>\n",
       "    </tr>\n",
       "    <tr>\n",
       "      <th>3</th>\n",
       "      <td>SO - 0005097</td>\n",
       "      <td>2020-01-14</td>\n",
       "      <td>22</td>\n",
       "      <td>1</td>\n",
       "      <td>4</td>\n",
       "      <td>1</td>\n",
       "      <td>1</td>\n",
       "      <td>0.075</td>\n",
       "      <td>2505.8</td>\n",
       "      <td>1954.524</td>\n",
       "      <td>2505.725</td>\n",
       "      <td>1</td>\n",
       "      <td>2020</td>\n",
       "      <td>551.201</td>\n",
       "      <td>0</td>\n",
       "    </tr>\n",
       "    <tr>\n",
       "      <th>4</th>\n",
       "      <td>SO - 0005532</td>\n",
       "      <td>2020-03-04</td>\n",
       "      <td>11</td>\n",
       "      <td>1</td>\n",
       "      <td>48</td>\n",
       "      <td>1</td>\n",
       "      <td>1</td>\n",
       "      <td>0.100</td>\n",
       "      <td>3256.2</td>\n",
       "      <td>2767.770</td>\n",
       "      <td>3256.100</td>\n",
       "      <td>3</td>\n",
       "      <td>2020</td>\n",
       "      <td>488.330</td>\n",
       "      <td>0</td>\n",
       "    </tr>\n",
       "  </tbody>\n",
       "</table>\n",
       "</div>"
      ],
      "text/plain": [
       "    OrderNumber  OrderDate  _SalesAM_ID  _CustomerID  _SiteID  _ProductID  \\\n",
       "0   SO - 000175 2018-06-09            1            1      107           1   \n",
       "1  SO - 0003171 2019-05-26            8            1      288           1   \n",
       "2  SO - 0003587 2019-07-16           11            1      129           1   \n",
       "3  SO - 0005097 2020-01-14           22            1        4           1   \n",
       "4  SO - 0005532 2020-03-04           11            1       48           1   \n",
       "\n",
       "   Order Quantity  Discount Applied  Unit Price  Unit Cost  Total Amount  \\\n",
       "0               1             0.075      2224.4   1579.324      2224.325   \n",
       "1               1             0.300      3966.4   2816.144      3966.100   \n",
       "2               2             0.100      3852.5   2658.225      7704.900   \n",
       "3               1             0.075      2505.8   1954.524      2505.725   \n",
       "4               1             0.100      3256.2   2767.770      3256.100   \n",
       "\n",
       "   Month  Year    Profit  Bandwidth  \n",
       "0      6  2018   645.001          0  \n",
       "1      5  2019  1149.956          0  \n",
       "2      7  2019  1194.175          0  \n",
       "3      1  2020   551.201          0  \n",
       "4      3  2020   488.330          0  "
      ]
     },
     "execution_count": 25,
     "metadata": {},
     "output_type": "execute_result"
    }
   ],
   "source": [
    "sales_order.head()"
   ]
  },
  {
   "cell_type": "code",
   "execution_count": 13,
   "id": "7826dd8c",
   "metadata": {},
   "outputs": [],
   "source": [
    "#Calculate profit from each individual sale transaction\n",
    "sales_order['Profit'] = (sales_order['Unit Price']- sales_order['Unit Cost'])-sales_order['Discount Applied']"
   ]
  },
  {
   "cell_type": "code",
   "execution_count": null,
   "id": "ee573269",
   "metadata": {},
   "outputs": [],
   "source": []
  },
  {
   "cell_type": "code",
   "execution_count": 14,
   "id": "db350ec4",
   "metadata": {},
   "outputs": [],
   "source": [
    "#Add Bandwidth purchased from each transaction\n",
    "sales_order = sales_order.merge(products[['_ProductID','Bandwidth']], left_on = \"_ProductID\", right_on = \"_ProductID\", how = \"left\")"
   ]
  },
  {
   "cell_type": "code",
   "execution_count": 15,
   "id": "de403370",
   "metadata": {},
   "outputs": [],
   "source": [
    "#Add last purchase data in days from\n",
    "def last_purchase(customer_id, OrderIndex):\n",
    "    customer_purchase = sales_order.query(\"_CustomerID == {customer_id}\").sort_values(['OrderDate'])\n",
    "    current_purchase_date = customer_purchase.loc[OrderIndex].OrderDate #current purchase data\n",
    "    last_purchase_date = customer_purchase.loc[OrderIndex -1]\n"
   ]
  },
  {
   "cell_type": "code",
   "execution_count": 16,
   "id": "bd5e93c3",
   "metadata": {},
   "outputs": [],
   "source": [
    "#Group all prouduct demand by their months"
   ]
  },
  {
   "cell_type": "code",
   "execution_count": 17,
   "id": "d5bac4a0",
   "metadata": {},
   "outputs": [],
   "source": [
    "demand = pd.DataFrame()\n",
    "for item in sales_order['_ProductID'].unique():\n",
    "    demand[str(item)] = 0"
   ]
  },
  {
   "cell_type": "code",
   "execution_count": 18,
   "id": "ca4939a7",
   "metadata": {},
   "outputs": [
    {
     "data": {
      "text/html": [
       "<div>\n",
       "<style scoped>\n",
       "    .dataframe tbody tr th:only-of-type {\n",
       "        vertical-align: middle;\n",
       "    }\n",
       "\n",
       "    .dataframe tbody tr th {\n",
       "        vertical-align: top;\n",
       "    }\n",
       "\n",
       "    .dataframe thead th {\n",
       "        text-align: right;\n",
       "    }\n",
       "</style>\n",
       "<table border=\"1\" class=\"dataframe\">\n",
       "  <thead>\n",
       "    <tr style=\"text-align: right;\">\n",
       "      <th></th>\n",
       "      <th>1</th>\n",
       "      <th>2</th>\n",
       "      <th>3</th>\n",
       "      <th>4</th>\n",
       "      <th>5</th>\n",
       "      <th>6</th>\n",
       "      <th>7</th>\n",
       "      <th>8</th>\n",
       "      <th>9</th>\n",
       "      <th>10</th>\n",
       "      <th>...</th>\n",
       "      <th>38</th>\n",
       "      <th>39</th>\n",
       "      <th>40</th>\n",
       "      <th>41</th>\n",
       "      <th>42</th>\n",
       "      <th>43</th>\n",
       "      <th>44</th>\n",
       "      <th>45</th>\n",
       "      <th>46</th>\n",
       "      <th>47</th>\n",
       "    </tr>\n",
       "  </thead>\n",
       "  <tbody>\n",
       "  </tbody>\n",
       "</table>\n",
       "<p>0 rows × 47 columns</p>\n",
       "</div>"
      ],
      "text/plain": [
       "Empty DataFrame\n",
       "Columns: [1, 2, 3, 4, 5, 6, 7, 8, 9, 10, 11, 12, 13, 14, 15, 16, 17, 18, 19, 20, 21, 22, 23, 24, 25, 26, 27, 28, 29, 30, 31, 32, 33, 34, 35, 36, 37, 38, 39, 40, 41, 42, 43, 44, 45, 46, 47]\n",
       "Index: []\n",
       "\n",
       "[0 rows x 47 columns]"
      ]
     },
     "execution_count": 18,
     "metadata": {},
     "output_type": "execute_result"
    }
   ],
   "source": [
    "demand.head()"
   ]
  },
  {
   "cell_type": "code",
   "execution_count": 19,
   "id": "34442e1b",
   "metadata": {},
   "outputs": [
    {
     "data": {
      "text/plain": [
       "47"
      ]
     },
     "execution_count": 19,
     "metadata": {},
     "output_type": "execute_result"
    }
   ],
   "source": [
    "#Uniques months\n",
    "len(sales_order['_ProductID'].unique())"
   ]
  },
  {
   "cell_type": "code",
   "execution_count": 27,
   "id": "bbead596",
   "metadata": {},
   "outputs": [],
   "source": [
    "sales_order['Month-Year']= sales_order['OrderDate'].dt.strftime('%Y/%m')"
   ]
  },
  {
   "cell_type": "code",
   "execution_count": 28,
   "id": "d9b86d0c",
   "metadata": {
    "scrolled": true
   },
   "outputs": [
    {
     "data": {
      "text/plain": [
       "1"
      ]
     },
     "execution_count": 28,
     "metadata": {},
     "output_type": "execute_result"
    }
   ],
   "source": [
    "sales_order.loc[(sales_order['Month-Year'] == '2018/05') & (sales_order['_ProductID'] == 1)].OrderNumber.count()"
   ]
  },
  {
   "cell_type": "code",
   "execution_count": 29,
   "id": "db35cd54",
   "metadata": {},
   "outputs": [],
   "source": [
    "prod_demand = {}"
   ]
  },
  {
   "cell_type": "code",
   "execution_count": 30,
   "id": "887e5328",
   "metadata": {},
   "outputs": [],
   "source": [
    "for product in list(sales_order['_ProductID'].unique()):\n",
    "    month_demand = []\n",
    "    for mo in list(sales_order['Month-Year'].unique()):\n",
    "        b = sales_order.loc[(sales_order['Month-Year'] == mo) & (sales_order['_ProductID'] == product)].OrderNumber.count() \n",
    "        month_demand.append(b)\n",
    "    prod_demand[product] = month_demand"
   ]
  },
  {
   "cell_type": "code",
   "execution_count": 31,
   "id": "0f509671",
   "metadata": {},
   "outputs": [],
   "source": [
    "prod_demand['Month-Year'] = sales_order['Month-Year'].unique()"
   ]
  },
  {
   "cell_type": "code",
   "execution_count": 32,
   "id": "f1d55dac",
   "metadata": {},
   "outputs": [],
   "source": [
    "bv = pd.DataFrame(prod_demand)"
   ]
  },
  {
   "cell_type": "code",
   "execution_count": 33,
   "id": "bb483aad",
   "metadata": {},
   "outputs": [
    {
     "data": {
      "text/plain": [
       "<AxesSubplot:xlabel='Month-Year'>"
      ]
     },
     "execution_count": 33,
     "metadata": {},
     "output_type": "execute_result"
    },
    {
     "data": {
      "image/png": "[encoded data removed]",
      "text/plain": [
       "<Figure size 576x432 with 1 Axes>"
      ]
     },
     "metadata": {
      "needs_background": "light"
     },
     "output_type": "display_data"
    }
   ],
   "source": [
    "bv.plot.line(x='Month-Year',y=[1], figsize=(8,6))"
   ]
  },
  {
   "cell_type": "code",
   "execution_count": 34,
   "id": "81f6fd9a",
   "metadata": {},
   "outputs": [],
   "source": [
    "for product in list(sales_order['_ProductID'].unique()):\n",
    "    month_demand = []\n",
    "    for mo in list(sales_order['_SiteID'].unique()):\n",
    "        b = sales_order.loc[(sales_order['_SiteID'] == mo) & (sales_order['_ProductID'] == product)].OrderNumber.count() \n",
    "        month_demand.append(b)\n",
    "    prod_demand[product] = month_demand"
   ]
  },
  {
   "cell_type": "code",
   "execution_count": 35,
   "id": "8adff754",
   "metadata": {},
   "outputs": [],
   "source": [
    "for row in range(len(demand)):\n",
    "    print(demand.iloc[row].name)"
   ]
  },
  {
   "cell_type": "code",
   "execution_count": 36,
   "id": "7c81c23f",
   "metadata": {},
   "outputs": [],
   "source": [
    "prod_demand = sales_order.groupby('Month-Year').agg(qty = ('_ProductID', 'sum')).astype({'qty':int})"
   ]
  },
  {
   "cell_type": "code",
   "execution_count": 37,
   "id": "ed71cc70",
   "metadata": {},
   "outputs": [
    {
     "data": {
      "text/html": [
       "<div>\n",
       "<style scoped>\n",
       "    .dataframe tbody tr th:only-of-type {\n",
       "        vertical-align: middle;\n",
       "    }\n",
       "\n",
       "    .dataframe tbody tr th {\n",
       "        vertical-align: top;\n",
       "    }\n",
       "\n",
       "    .dataframe thead th {\n",
       "        text-align: right;\n",
       "    }\n",
       "</style>\n",
       "<table border=\"1\" class=\"dataframe\">\n",
       "  <thead>\n",
       "    <tr style=\"text-align: right;\">\n",
       "      <th></th>\n",
       "      <th>qty</th>\n",
       "    </tr>\n",
       "    <tr>\n",
       "      <th>Month-Year</th>\n",
       "      <th></th>\n",
       "    </tr>\n",
       "  </thead>\n",
       "  <tbody>\n",
       "    <tr>\n",
       "      <th>2018/05</th>\n",
       "      <td>156</td>\n",
       "    </tr>\n",
       "    <tr>\n",
       "      <th>2018/06</th>\n",
       "      <td>6018</td>\n",
       "    </tr>\n",
       "    <tr>\n",
       "      <th>2018/07</th>\n",
       "      <td>5858</td>\n",
       "    </tr>\n",
       "    <tr>\n",
       "      <th>2018/08</th>\n",
       "      <td>6330</td>\n",
       "    </tr>\n",
       "    <tr>\n",
       "      <th>2018/09</th>\n",
       "      <td>6223</td>\n",
       "    </tr>\n",
       "    <tr>\n",
       "      <th>2018/10</th>\n",
       "      <td>5577</td>\n",
       "    </tr>\n",
       "    <tr>\n",
       "      <th>2018/11</th>\n",
       "      <td>6098</td>\n",
       "    </tr>\n",
       "    <tr>\n",
       "      <th>2018/12</th>\n",
       "      <td>7240</td>\n",
       "    </tr>\n",
       "    <tr>\n",
       "      <th>2019/01</th>\n",
       "      <td>7135</td>\n",
       "    </tr>\n",
       "    <tr>\n",
       "      <th>2019/02</th>\n",
       "      <td>5330</td>\n",
       "    </tr>\n",
       "    <tr>\n",
       "      <th>2019/03</th>\n",
       "      <td>5125</td>\n",
       "    </tr>\n",
       "    <tr>\n",
       "      <th>2019/04</th>\n",
       "      <td>6445</td>\n",
       "    </tr>\n",
       "    <tr>\n",
       "      <th>2019/05</th>\n",
       "      <td>6594</td>\n",
       "    </tr>\n",
       "    <tr>\n",
       "      <th>2019/06</th>\n",
       "      <td>6063</td>\n",
       "    </tr>\n",
       "    <tr>\n",
       "      <th>2019/07</th>\n",
       "      <td>6225</td>\n",
       "    </tr>\n",
       "    <tr>\n",
       "      <th>2019/08</th>\n",
       "      <td>6309</td>\n",
       "    </tr>\n",
       "    <tr>\n",
       "      <th>2019/09</th>\n",
       "      <td>5474</td>\n",
       "    </tr>\n",
       "    <tr>\n",
       "      <th>2019/10</th>\n",
       "      <td>5714</td>\n",
       "    </tr>\n",
       "    <tr>\n",
       "      <th>2019/11</th>\n",
       "      <td>6092</td>\n",
       "    </tr>\n",
       "    <tr>\n",
       "      <th>2019/12</th>\n",
       "      <td>6088</td>\n",
       "    </tr>\n",
       "    <tr>\n",
       "      <th>2020/01</th>\n",
       "      <td>6327</td>\n",
       "    </tr>\n",
       "    <tr>\n",
       "      <th>2020/02</th>\n",
       "      <td>5938</td>\n",
       "    </tr>\n",
       "    <tr>\n",
       "      <th>2020/03</th>\n",
       "      <td>5101</td>\n",
       "    </tr>\n",
       "    <tr>\n",
       "      <th>2020/04</th>\n",
       "      <td>6310</td>\n",
       "    </tr>\n",
       "    <tr>\n",
       "      <th>2020/05</th>\n",
       "      <td>6309</td>\n",
       "    </tr>\n",
       "    <tr>\n",
       "      <th>2020/06</th>\n",
       "      <td>5809</td>\n",
       "    </tr>\n",
       "    <tr>\n",
       "      <th>2020/07</th>\n",
       "      <td>6716</td>\n",
       "    </tr>\n",
       "    <tr>\n",
       "      <th>2020/08</th>\n",
       "      <td>5911</td>\n",
       "    </tr>\n",
       "    <tr>\n",
       "      <th>2020/09</th>\n",
       "      <td>6369</td>\n",
       "    </tr>\n",
       "    <tr>\n",
       "      <th>2020/10</th>\n",
       "      <td>6465</td>\n",
       "    </tr>\n",
       "    <tr>\n",
       "      <th>2020/11</th>\n",
       "      <td>6665</td>\n",
       "    </tr>\n",
       "    <tr>\n",
       "      <th>2020/12</th>\n",
       "      <td>5946</td>\n",
       "    </tr>\n",
       "  </tbody>\n",
       "</table>\n",
       "</div>"
      ],
      "text/plain": [
       "             qty\n",
       "Month-Year      \n",
       "2018/05      156\n",
       "2018/06     6018\n",
       "2018/07     5858\n",
       "2018/08     6330\n",
       "2018/09     6223\n",
       "2018/10     5577\n",
       "2018/11     6098\n",
       "2018/12     7240\n",
       "2019/01     7135\n",
       "2019/02     5330\n",
       "2019/03     5125\n",
       "2019/04     6445\n",
       "2019/05     6594\n",
       "2019/06     6063\n",
       "2019/07     6225\n",
       "2019/08     6309\n",
       "2019/09     5474\n",
       "2019/10     5714\n",
       "2019/11     6092\n",
       "2019/12     6088\n",
       "2020/01     6327\n",
       "2020/02     5938\n",
       "2020/03     5101\n",
       "2020/04     6310\n",
       "2020/05     6309\n",
       "2020/06     5809\n",
       "2020/07     6716\n",
       "2020/08     5911\n",
       "2020/09     6369\n",
       "2020/10     6465\n",
       "2020/11     6665\n",
       "2020/12     5946"
      ]
     },
     "execution_count": 37,
     "metadata": {},
     "output_type": "execute_result"
    }
   ],
   "source": [
    "prod_demand"
   ]
  },
  {
   "cell_type": "code",
   "execution_count": 38,
   "id": "7430412b",
   "metadata": {},
   "outputs": [
    {
     "data": {
      "text/plain": [
       "<bound method DataFrame.query of        OrderNumber  OrderDate  _SalesAM_ID  _CustomerID  _SiteID  _ProductID  \\\n",
       "0      SO - 000175 2018-06-09            1            1      107           1   \n",
       "1     SO - 0003171 2019-05-26            8            1      288           1   \n",
       "2     SO - 0003587 2019-07-16           11            1      129           1   \n",
       "3     SO - 0005097 2020-01-14           22            1        4           1   \n",
       "4     SO - 0005532 2020-03-04           11            1       48           1   \n",
       "...            ...        ...          ...          ...      ...         ...   \n",
       "7986  SO - 0007448 2020-10-16           18           48      207          47   \n",
       "7987  SO - 0002912 2019-04-27            2           49      230          47   \n",
       "7988  SO - 0003106 2019-05-19           13           49      238          47   \n",
       "7989  SO - 0005880 2020-04-15           11           50       33          47   \n",
       "7990  SO - 0007879 2020-12-05           24           50      111          47   \n",
       "\n",
       "      Order Quantity  Discount Applied  Unit Price  Unit Cost  Total Amount  \\\n",
       "0                  1             0.075      2224.4   1579.324      2224.325   \n",
       "1                  1             0.300      3966.4   2816.144      3966.100   \n",
       "2                  2             0.100      3852.5   2658.225      7704.900   \n",
       "3                  1             0.075      2505.8   1954.524      2505.725   \n",
       "4                  1             0.100      3256.2   2767.770      3256.100   \n",
       "...              ...               ...         ...        ...           ...   \n",
       "7986               4             0.150      2358.4   1815.968      9433.450   \n",
       "7987               7             0.075      5661.5   3623.360     39630.425   \n",
       "7988               2             0.050      1943.0    874.350      3885.950   \n",
       "7989               5             0.400      2365.1   1348.107     11825.100   \n",
       "7990               5             0.050      3999.9   2759.931     19999.450   \n",
       "\n",
       "      Month  Year    Profit  Bandwidth Month-Year  \n",
       "0         6  2018   645.001          0    2018/06  \n",
       "1         5  2019  1149.956          0    2019/05  \n",
       "2         7  2019  1194.175          0    2019/07  \n",
       "3         1  2020   551.201          0    2020/01  \n",
       "4         3  2020   488.330          0    2020/03  \n",
       "...     ...   ...       ...        ...        ...  \n",
       "7986     10  2020   542.282       1000    2020/10  \n",
       "7987      4  2019  2038.065       1000    2019/04  \n",
       "7988      5  2019  1068.600       1000    2019/05  \n",
       "7989      4  2020  1016.593       1000    2020/04  \n",
       "7990     12  2020  1239.919       1000    2020/12  \n",
       "\n",
       "[7991 rows x 16 columns]>"
      ]
     },
     "execution_count": 38,
     "metadata": {},
     "output_type": "execute_result"
    }
   ],
   "source": [
    "sales_order.query"
   ]
  },
  {
   "cell_type": "code",
   "execution_count": 39,
   "id": "0326e415",
   "metadata": {},
   "outputs": [],
   "source": [
    "demand = pd.DataFrame()\n",
    "for product in list(sales_order['_ProductID'].unique()):\n",
    "    demand[str(product)] = 0"
   ]
  },
  {
   "cell_type": "code",
   "execution_count": 40,
   "id": "2abf1f48",
   "metadata": {},
   "outputs": [],
   "source": [
    "#customer_purchase = sales_order.query(\"_CustomerID == 1\").sort_values(['OrderDate'])\n",
    "#current_purchase_date = customer_purchase.loc[0].OrderDate\n",
    "#last_purchase_date = customer_purchase.iloc[0 -1]"
   ]
  },
  {
   "cell_type": "code",
   "execution_count": 41,
   "id": "68e0431d",
   "metadata": {},
   "outputs": [],
   "source": [
    "#current_purchase_date"
   ]
  },
  {
   "cell_type": "code",
   "execution_count": 42,
   "id": "a7a3d0ac",
   "metadata": {},
   "outputs": [],
   "source": [
    "#sales_order.query(\"_CustomerID == 1\").sort_values(['OrderDate'])"
   ]
  },
  {
   "cell_type": "code",
   "execution_count": 43,
   "id": "1303bc3e",
   "metadata": {},
   "outputs": [],
   "source": [
    "#sales_order['Month-Year']= sales_order['OrderDate'].dt.strftime('%Y/%m')"
   ]
  },
  {
   "cell_type": "code",
   "execution_count": 44,
   "id": "335a7392",
   "metadata": {},
   "outputs": [],
   "source": [
    "#sales_order['_ProductID'].groupby([sales_order.Year]).agg('count')\n",
    "#sales_order['_ProductID'].groupby([sales_order[\"Month-Year\"]]).agg('count')"
   ]
  },
  {
   "cell_type": "code",
   "execution_count": 45,
   "id": "59a69a1e",
   "metadata": {},
   "outputs": [],
   "source": [
    "#sales_order.head()"
   ]
  },
  {
   "cell_type": "markdown",
   "id": "f1d248fa",
   "metadata": {},
   "source": [
    "# Cleaning data"
   ]
  },
  {
   "cell_type": "code",
   "execution_count": 46,
   "id": "6edbdf25",
   "metadata": {},
   "outputs": [
    {
     "data": {
      "text/plain": [
       "OrderNumber         0\n",
       "OrderDate           0\n",
       "_SalesAM_ID         0\n",
       "_CustomerID         0\n",
       "_SiteID             0\n",
       "_ProductID          0\n",
       "Order Quantity      0\n",
       "Discount Applied    0\n",
       "Unit Price          0\n",
       "Unit Cost           0\n",
       "Total Amount        0\n",
       "Month               0\n",
       "Year                0\n",
       "Profit              0\n",
       "Bandwidth           0\n",
       "Month-Year          0\n",
       "dtype: int64"
      ]
     },
     "execution_count": 46,
     "metadata": {},
     "output_type": "execute_result"
    }
   ],
   "source": [
    "sales_order.isnull().sum()"
   ]
  },
  {
   "cell_type": "markdown",
   "id": "acc808f9",
   "metadata": {},
   "source": [
    "# Building the model"
   ]
  },
  {
   "cell_type": "markdown",
   "id": "6a455f40",
   "metadata": {},
   "source": [
    "## Predicting future products demand"
   ]
  },
  {
   "cell_type": "code",
   "execution_count": 47,
   "id": "47fa4f43",
   "metadata": {},
   "outputs": [],
   "source": [
    "x = sales_order.drop([\"_ProductID\",\"OrderNumber\",\"OrderDate\",\"Year\",\"Month-Year\"], axis=\"columns\")\n",
    "y = sales_order[\"_ProductID\"]"
   ]
  },
  {
   "cell_type": "code",
   "execution_count": 48,
   "id": "808b6eb9",
   "metadata": {},
   "outputs": [
    {
     "data": {
      "text/html": [
       "<div>\n",
       "<style scoped>\n",
       "    .dataframe tbody tr th:only-of-type {\n",
       "        vertical-align: middle;\n",
       "    }\n",
       "\n",
       "    .dataframe tbody tr th {\n",
       "        vertical-align: top;\n",
       "    }\n",
       "\n",
       "    .dataframe thead th {\n",
       "        text-align: right;\n",
       "    }\n",
       "</style>\n",
       "<table border=\"1\" class=\"dataframe\">\n",
       "  <thead>\n",
       "    <tr style=\"text-align: right;\">\n",
       "      <th></th>\n",
       "      <th>OrderNumber</th>\n",
       "      <th>OrderDate</th>\n",
       "      <th>_SalesAM_ID</th>\n",
       "      <th>_CustomerID</th>\n",
       "      <th>_SiteID</th>\n",
       "      <th>_ProductID</th>\n",
       "      <th>Order Quantity</th>\n",
       "      <th>Discount Applied</th>\n",
       "      <th>Unit Price</th>\n",
       "      <th>Unit Cost</th>\n",
       "      <th>Total Amount</th>\n",
       "      <th>Month</th>\n",
       "      <th>Year</th>\n",
       "      <th>Profit</th>\n",
       "      <th>Bandwidth</th>\n",
       "      <th>Month-Year</th>\n",
       "    </tr>\n",
       "  </thead>\n",
       "  <tbody>\n",
       "    <tr>\n",
       "      <th>0</th>\n",
       "      <td>SO - 000175</td>\n",
       "      <td>2018-06-09</td>\n",
       "      <td>1</td>\n",
       "      <td>1</td>\n",
       "      <td>107</td>\n",
       "      <td>1</td>\n",
       "      <td>1</td>\n",
       "      <td>0.075</td>\n",
       "      <td>2224.4</td>\n",
       "      <td>1579.324</td>\n",
       "      <td>2224.325</td>\n",
       "      <td>6</td>\n",
       "      <td>2018</td>\n",
       "      <td>645.001</td>\n",
       "      <td>0</td>\n",
       "      <td>2018/06</td>\n",
       "    </tr>\n",
       "    <tr>\n",
       "      <th>1</th>\n",
       "      <td>SO - 0003171</td>\n",
       "      <td>2019-05-26</td>\n",
       "      <td>8</td>\n",
       "      <td>1</td>\n",
       "      <td>288</td>\n",
       "      <td>1</td>\n",
       "      <td>1</td>\n",
       "      <td>0.300</td>\n",
       "      <td>3966.4</td>\n",
       "      <td>2816.144</td>\n",
       "      <td>3966.100</td>\n",
       "      <td>5</td>\n",
       "      <td>2019</td>\n",
       "      <td>1149.956</td>\n",
       "      <td>0</td>\n",
       "      <td>2019/05</td>\n",
       "    </tr>\n",
       "    <tr>\n",
       "      <th>2</th>\n",
       "      <td>SO - 0003587</td>\n",
       "      <td>2019-07-16</td>\n",
       "      <td>11</td>\n",
       "      <td>1</td>\n",
       "      <td>129</td>\n",
       "      <td>1</td>\n",
       "      <td>2</td>\n",
       "      <td>0.100</td>\n",
       "      <td>3852.5</td>\n",
       "      <td>2658.225</td>\n",
       "      <td>7704.900</td>\n",
       "      <td>7</td>\n",
       "      <td>2019</td>\n",
       "      <td>1194.175</td>\n",
       "      <td>0</td>\n",
       "      <td>2019/07</td>\n",
       "    </tr>\n",
       "    <tr>\n",
       "      <th>3</th>\n",
       "      <td>SO - 0005097</td>\n",
       "      <td>2020-01-14</td>\n",
       "      <td>22</td>\n",
       "      <td>1</td>\n",
       "      <td>4</td>\n",
       "      <td>1</td>\n",
       "      <td>1</td>\n",
       "      <td>0.075</td>\n",
       "      <td>2505.8</td>\n",
       "      <td>1954.524</td>\n",
       "      <td>2505.725</td>\n",
       "      <td>1</td>\n",
       "      <td>2020</td>\n",
       "      <td>551.201</td>\n",
       "      <td>0</td>\n",
       "      <td>2020/01</td>\n",
       "    </tr>\n",
       "    <tr>\n",
       "      <th>4</th>\n",
       "      <td>SO - 0005532</td>\n",
       "      <td>2020-03-04</td>\n",
       "      <td>11</td>\n",
       "      <td>1</td>\n",
       "      <td>48</td>\n",
       "      <td>1</td>\n",
       "      <td>1</td>\n",
       "      <td>0.100</td>\n",
       "      <td>3256.2</td>\n",
       "      <td>2767.770</td>\n",
       "      <td>3256.100</td>\n",
       "      <td>3</td>\n",
       "      <td>2020</td>\n",
       "      <td>488.330</td>\n",
       "      <td>0</td>\n",
       "      <td>2020/03</td>\n",
       "    </tr>\n",
       "  </tbody>\n",
       "</table>\n",
       "</div>"
      ],
      "text/plain": [
       "    OrderNumber  OrderDate  _SalesAM_ID  _CustomerID  _SiteID  _ProductID  \\\n",
       "0   SO - 000175 2018-06-09            1            1      107           1   \n",
       "1  SO - 0003171 2019-05-26            8            1      288           1   \n",
       "2  SO - 0003587 2019-07-16           11            1      129           1   \n",
       "3  SO - 0005097 2020-01-14           22            1        4           1   \n",
       "4  SO - 0005532 2020-03-04           11            1       48           1   \n",
       "\n",
       "   Order Quantity  Discount Applied  Unit Price  Unit Cost  Total Amount  \\\n",
       "0               1             0.075      2224.4   1579.324      2224.325   \n",
       "1               1             0.300      3966.4   2816.144      3966.100   \n",
       "2               2             0.100      3852.5   2658.225      7704.900   \n",
       "3               1             0.075      2505.8   1954.524      2505.725   \n",
       "4               1             0.100      3256.2   2767.770      3256.100   \n",
       "\n",
       "   Month  Year    Profit  Bandwidth Month-Year  \n",
       "0      6  2018   645.001          0    2018/06  \n",
       "1      5  2019  1149.956          0    2019/05  \n",
       "2      7  2019  1194.175          0    2019/07  \n",
       "3      1  2020   551.201          0    2020/01  \n",
       "4      3  2020   488.330          0    2020/03  "
      ]
     },
     "execution_count": 48,
     "metadata": {},
     "output_type": "execute_result"
    }
   ],
   "source": [
    "sales_order.head()"
   ]
  },
  {
   "cell_type": "code",
   "execution_count": 49,
   "id": "6b778a2d",
   "metadata": {},
   "outputs": [
    {
     "data": {
      "text/plain": [
       "_SalesAM_ID           int64\n",
       "_CustomerID           int64\n",
       "_SiteID               int64\n",
       "Order Quantity        int64\n",
       "Discount Applied    float64\n",
       "Unit Price          float64\n",
       "Unit Cost           float64\n",
       "Total Amount        float64\n",
       "Month                 int64\n",
       "Profit              float64\n",
       "Bandwidth             int64\n",
       "dtype: object"
      ]
     },
     "execution_count": 49,
     "metadata": {},
     "output_type": "execute_result"
    }
   ],
   "source": [
    "# Splitting the dataset into the Training set and Test set\n",
    "from sklearn.model_selection import train_test_split\n",
    "X_train, X_test, y_train, y_test = train_test_split(x, y, test_size = 0.25, random_state = 0)\n",
    "X_train.dtypes"
   ]
  },
  {
   "cell_type": "code",
   "execution_count": 50,
   "id": "6f25507d",
   "metadata": {},
   "outputs": [],
   "source": [
    "# X_train = X_train.values.reshape(-1, 1)\n",
    "# y_train = y_train.values.reshape(-1, 1)\n",
    "# X_test = X_test.values.reshape(-1, 1)\n",
    "# y_test = y_test.values.reshape(-1, 1)"
   ]
  },
  {
   "cell_type": "code",
   "execution_count": 69,
   "id": "17cfb8db",
   "metadata": {},
   "outputs": [],
   "source": [
    "# using Decision tree algorithm "
   ]
  },
  {
   "cell_type": "code",
   "execution_count": 51,
   "id": "03a6b4ca",
   "metadata": {},
   "outputs": [],
   "source": [
    "from sklearn import tree\n",
    "model = tree.DecisionTreeClassifier()\n"
   ]
  },
  {
   "cell_type": "code",
   "execution_count": 52,
   "id": "e974f7d8",
   "metadata": {},
   "outputs": [
    {
     "data": {
      "text/plain": [
       "DecisionTreeClassifier()"
      ]
     },
     "execution_count": 52,
     "metadata": {},
     "output_type": "execute_result"
    }
   ],
   "source": [
    "model.fit(X_train, y_train)"
   ]
  },
  {
   "cell_type": "code",
   "execution_count": 84,
   "id": "b2955293",
   "metadata": {},
   "outputs": [],
   "source": [
    "y_pred=model.predict(X_test)\n",
    "y_predtrain = model1.predict(X_train)\n"
   ]
  },
  {
   "cell_type": "code",
   "execution_count": 54,
   "id": "62ff43ac",
   "metadata": {},
   "outputs": [
    {
     "data": {
      "text/plain": [
       "1.608938290623446"
      ]
     },
     "execution_count": 54,
     "metadata": {},
     "output_type": "execute_result"
    }
   ],
   "source": [
    "from sklearn.metrics import mean_absolute_percentage_error\n",
    "mean_absolute_percentage_error(y_test,y_pred)"
   ]
  },
  {
   "cell_type": "code",
   "execution_count": 55,
   "id": "aa88bbf9",
   "metadata": {
    "scrolled": true
   },
   "outputs": [
    {
     "data": {
      "text/plain": [
       "98.39106170937656"
      ]
     },
     "execution_count": 55,
     "metadata": {},
     "output_type": "execute_result"
    }
   ],
   "source": [
    "# prediction on the testing \n",
    "100-mean_absolute_percentage_error(y_test,y_pred)"
   ]
  },
  {
   "cell_type": "code",
   "execution_count": 85,
   "id": "7c64fd64",
   "metadata": {},
   "outputs": [
    {
     "data": {
      "text/plain": [
       "98.52344884758489"
      ]
     },
     "execution_count": 85,
     "metadata": {},
     "output_type": "execute_result"
    }
   ],
   "source": [
    "# prediction on the training \n",
    "100-mean_absolute_percentage_error(y_train,y_predtrain)"
   ]
  },
  {
   "cell_type": "code",
   "execution_count": 57,
   "id": "4e7a105c",
   "metadata": {},
   "outputs": [],
   "source": [
    "#b[8][0][0]"
   ]
  },
  {
   "cell_type": "markdown",
   "id": "84d5e415",
   "metadata": {},
   "source": [
    "# using support vector machine"
   ]
  },
  {
   "cell_type": "code",
   "execution_count": 58,
   "id": "3d1b7892",
   "metadata": {},
   "outputs": [],
   "source": [
    " # Feature Scaling\n",
    "from sklearn.preprocessing import StandardScaler\n",
    "#sc = StandardScaler()\n",
    "#X_train = sc.fit_transform(X_train)\n",
    "#X_test = sc.transform(X_test)\n"
   ]
  },
  {
   "cell_type": "markdown",
   "id": "4fa1a861",
   "metadata": {},
   "source": [
    "# Fitting data into simple linear regression¶"
   ]
  },
  {
   "cell_type": "code",
   "execution_count": 79,
   "id": "14172c78",
   "metadata": {},
   "outputs": [
    {
     "name": "stdout",
     "output_type": "stream",
     "text": [
      "intercept 23.745202736525947\n",
      "coefficients [-0.06784344  0.2751349   0.10398587  0.37963506  0.00982091  0.13472794\n",
      "  0.40220666 -0.51145852  0.34110752 -0.30326487  3.48092921]\n"
     ]
    }
   ],
   "source": [
    "from sklearn.linear_model import LinearRegression\n",
    "# model\n",
    "model1 = LinearRegression()\n",
    "model1.fit(X_train, y_train)\n",
    "\n",
    "print(\"intercept\", model1.intercept_)\n",
    "print(\"coefficients\", model1.coef_)\n",
    "\n",
    "# predicting\n",
    "y_pred1 = model1.predict(X_test)\n",
    "y_predtrain1 = model1.predict(X_train)\n",
    "\n"
   ]
  },
  {
   "cell_type": "code",
   "execution_count": 82,
   "id": "2428c94a",
   "metadata": {},
   "outputs": [
    {
     "name": "stdout",
     "output_type": "stream",
     "text": [
      "evaluation on tests 98.41965011127311\n",
      "evaluation on train 98.52344884758489\n"
     ]
    }
   ],
   "source": [
    "# evaluation of model\n",
    "print(\"evaluation on tests\",100-mean_absolute_percentage_error(y_test,y_pred1))\n",
    "print(\"evaluation on train\",100-mean_absolute_percentage_error(y_train,y_predtrain1))"
   ]
  },
  {
   "cell_type": "code",
   "execution_count": 86,
   "id": "8b68bf84",
   "metadata": {},
   "outputs": [
    {
     "data": {
      "text/plain": [
       "1.5803498887268803"
      ]
     },
     "execution_count": 86,
     "metadata": {},
     "output_type": "execute_result"
    }
   ],
   "source": [
    "# measuring error\n",
    "from sklearn.metrics import mean_absolute_percentage_error\n",
    "mean_absolute_percentage_error(y_test,y_pred1)"
   ]
  },
  {
   "cell_type": "markdown",
   "id": "844419a2",
   "metadata": {},
   "source": [
    "# polynomial regression"
   ]
  },
  {
   "cell_type": "code",
   "execution_count": 83,
   "id": "f53dcdf2",
   "metadata": {},
   "outputs": [
    {
     "name": "stdout",
     "output_type": "stream",
     "text": [
      "evaluation on test 98.45879136699567\n",
      "evaluation on train 98.57317762558354\n"
     ]
    }
   ],
   "source": [
    "from sklearn.preprocessing import PolynomialFeatures\n",
    "\n",
    "poly = PolynomialFeatures(degree=2)\n",
    "xtrainpoly = poly.fit_transform(X_train)\n",
    "xtestpoly = poly.fit_transform(X_test)\n",
    "\n",
    "model2 = LinearRegression()\n",
    "model2.fit(xtrainpoly, y_train)\n",
    "\n",
    "# predicting\n",
    "y_pred2 = model2.predict(xtestpoly)\n",
    "y_predtrain2 = model2.predict(xtrainpoly)\n",
    "\n",
    "# evaluation of model\n",
    "print(\"evaluation on test\",100-mean_absolute_percentage_error(y_test,y_pred2))\n",
    "print(\"evaluation on train\",100-mean_absolute_percentage_error(y_train,y_predtrain2))"
   ]
  },
  {
   "cell_type": "code",
   "execution_count": 87,
   "id": "3d9fe166",
   "metadata": {},
   "outputs": [
    {
     "data": {
      "text/plain": [
       "1.5412086330043313"
      ]
     },
     "execution_count": 87,
     "metadata": {},
     "output_type": "execute_result"
    }
   ],
   "source": [
    "from sklearn.metrics import mean_absolute_percentage_error\n",
    "mean_absolute_percentage_error(y_test,y_pred2)"
   ]
  },
  {
   "cell_type": "markdown",
   "id": "74db88c2",
   "metadata": {},
   "source": [
    "# The hightest performing model from the results is polynomial regression, it is the one we are going to save"
   ]
  },
  {
   "cell_type": "code",
   "execution_count": 90,
   "id": "a25d994f",
   "metadata": {},
   "outputs": [],
   "source": [
    "#Saving the model"
   ]
  },
  {
   "cell_type": "code",
   "execution_count": 91,
   "id": "511f55ae",
   "metadata": {},
   "outputs": [],
   "source": [
    "#PICKLE FORMAT"
   ]
  },
  {
   "cell_type": "code",
   "execution_count": 110,
   "id": "f810bcc4",
   "metadata": {},
   "outputs": [],
   "source": [
    "import pickle"
   ]
  },
  {
   "cell_type": "code",
   "execution_count": 111,
   "id": "1a63a7f5",
   "metadata": {},
   "outputs": [],
   "source": [
    "#with open('models_pickle','wb') as f:\n",
    "    #pickle.dump(model,f)"
   ]
  },
  {
   "cell_type": "code",
   "execution_count": 112,
   "id": "cf238522",
   "metadata": {},
   "outputs": [],
   "source": [
    "pickle.dump(model2, open('models/bsc_sales_model.pkl','wb'))"
   ]
  },
  {
   "cell_type": "markdown",
   "id": "65cca0a7",
   "metadata": {},
   "source": [
    "# saving in sav joblib format\n"
   ]
  },
  {
   "cell_type": "code",
   "execution_count": 113,
   "id": "54b971a0",
   "metadata": {},
   "outputs": [],
   "source": [
    "import joblib"
   ]
  },
  {
   "cell_type": "code",
   "execution_count": 116,
   "id": "aa06790d",
   "metadata": {},
   "outputs": [],
   "source": [
    "joblib.dump(model2, open('models/bsc_sales_model.sav','wb'))\n"
   ]
  },
  {
   "cell_type": "code",
   "execution_count": null,
   "id": "7ee3e451",
   "metadata": {},
   "outputs": [],
   "source": []
  }
 ],
 "metadata": {
  "kernelspec": {
   "display_name": "Python 3",
   "language": "python",
   "name": "python3"
  },
  "language_info": {
   "codemirror_mode": {
    "name": "ipython",
    "version": 3
   },
   "file_extension": ".py",
   "mimetype": "text/x-python",
   "name": "python",
   "nbconvert_exporter": "python",
   "pygments_lexer": "ipython3",
   "version": "3.9.7"
  }
 },
 "nbformat": 4,
 "nbformat_minor": 5
}
